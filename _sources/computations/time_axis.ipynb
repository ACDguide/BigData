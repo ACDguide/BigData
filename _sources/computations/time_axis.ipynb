{
 "cells": [
  {
   "cell_type": "code",
   "execution_count": null,
   "id": "fc12fe60",
   "metadata": {},
   "outputs": [],
   "source": []
  },
  {
   "cell_type": "markdown",
   "id": "aboriginal-folks",
   "metadata": {},
   "source": [
    "# Dealing with the time-axis\n",
    "\n",
    "This notebook shows some strategies to deal with time-axis related issues. Here we are focusing mostly on python based solutions, but some of these tips can be adapted to other tools. "
   ]
  },
  {
   "cell_type": "code",
   "execution_count": 1,
   "id": "magnetic-jamaica",
   "metadata": {
    "tags": [
     "hide-input"
    ]
   },
   "outputs": [],
   "source": [
    "## This is setup for the plots later on in the notebook - on the website this\n",
    "## cell (and the cells making the diagrams) is hidden by default, using the 'hide-input' cell tag\n",
    "\n",
    "import matplotlib\n",
    "import matplotlib.pyplot as plt\n",
    "import numbers\n",
    "import numpy\n",
    "\n",
    "def draw_chunks(ax, size = (10, 8), nchunks = (5, 2), chunk_size = None, chunk_color = None):\n",
    "    \"\"\"\n",
    "    Draw a chunk diagram\n",
    "    \n",
    "    Args:\n",
    "        ax:          matplotlib.pyplot axis to draw on\n",
    "        size:        size of the array (x, y)\n",
    "        nchunks:     number of chunks (x, y)\n",
    "        chunk_size:  size of each chunk (x, y) (default size/nchunks)\n",
    "        chunk_color: colour of each chunk (array with shape nchunks)\n",
    "    \"\"\"\n",
    "    \n",
    "    spacing = 0.1\n",
    "    \n",
    "    if chunk_size is None:\n",
    "        chunk_size = (None, None)\n",
    "        \n",
    "    if chunk_color is None:\n",
    "        chunk_color = numpy.full(nchunks, 'wheat')\n",
    "    else:\n",
    "        chunk_color = numpy.asarray(chunk_color)\n",
    "        \n",
    "    # Fill in None values\n",
    "    chunk_size = tuple(chunk_size[i] if chunk_size[i] is not None else size[i] / nchunks[i]\n",
    "                        for i in range(2))\n",
    "    \n",
    "    if isinstance(chunk_size[0], numbers.Number):\n",
    "        xsize = numpy.full(nchunks[0], chunk_size[0]) - spacing\n",
    "    else:\n",
    "        xsize = numpy.asarray(chunk_size[0]) - spacing\n",
    "        \n",
    "    if isinstance(chunk_size[1], numbers.Number):\n",
    "        ysize = numpy.full(nchunks[1], chunk_size[1]) - spacing\n",
    "    else:\n",
    "        ysize = numpy.asarray(chunk_size[1]) - spacing\n",
    "\n",
    "                        \n",
    "    # Chunk cell centre\n",
    "    xc = (numpy.arange(nchunks[0], dtype='f') + 0.5) * (size[0] / nchunks[0])\n",
    "    yc = (numpy.arange(nchunks[1], dtype='f') + 0.5) * (size[1] / nchunks[1])\n",
    "    \n",
    "    for ii in range(nchunks[0]):\n",
    "        for jj in range(nchunks[1]):\n",
    "            box = matplotlib.patches.Rectangle((xc[ii] - xsize[ii]/2,\n",
    "                                                yc[jj] - ysize[jj]/2),\n",
    "                                               xsize[ii],\n",
    "                                               ysize[jj], \n",
    "                                               facecolor=chunk_color[ii,jj], edgecolor='black')\n",
    "            \n",
    "            ax.add_patch(box)\n",
    "            \n",
    "    ax.set_xbound(0, size[0])\n",
    "    ax.set_ylim(0, size[1])\n",
    "    ax.set_xticks([])\n",
    "    ax.set_yticks([])\n",
    "    ax.set_frame_on(False)\n",
    "    "
   ]
  },
  {
   "cell_type": "markdown",
   "id": "familiar-episode",
   "metadata": {},
   "source": [
    "## Useful python packages\n",
    "\n",
    "If you are a {ref}`python` user, the most useful package to deal with time is {ref}`pandas<pyanalysis>`, {ref}`calendar<pyanalysis>` and {term}`dask` .\n",
    "\n",
    "\n",
    "\n",
    "#### Command-line tools\n",
    "\n",
    "{ref}`cdo` and {ref}`nco` also offer some useful.\n",
    "\n",
    "http://nco.sourceforge.net/nco.html#Timeseries-Reshaping-mode_002c-aka-Splitting\n",
    "\n",
    "#### Other languages (Matlab, R, etc.)\n",
    "\n",
    "While we're not aware of anything quite as nice as Xarray and Dask for other languages, most languages have libraries for reading NetCDF files and working with MPI.\n",
    "\n",
    "If you have suggestions for other libraries we can list here please let us know by [opening a ticket](https://github.com/ACDguide/BigData/issues/new)"
   ]
  },
  {
   "cell_type": "markdown",
   "id": "neither-armstrong",
   "metadata": {},
   "source": [
    "## Common Tasks\n",
    "\n",
    "The chunking illustrations in this section show approximately how these operations are done in Xarray + Dask, to give an idea of their complexity when working with large datasets and a basic idea of how these operations can be implemented manually. Normal arrows mean one chunk on the left gets mapped to one chunk on the right, a left square bracket means the number of chunks is reduced after this operation, a right square bracket means the number of chunks is increased. The most intensive operations are rechunking, as these require a lot of data in-memory, which are indicated with a large square bracket on both left and right.\n",
    "\n",
    "A *'reduce'* operation lowers the number of dimensions (e.g. a mean along the time axis). A *'map'* operation keeps the array size the same (e.g. a rolling mean)\n",
    "\n",
    "Tasks can be combined - you might calculate a climatology of 90th percentiles for each day in the year, or resample daily data to monthly maximums.\n",
    "\n",
    "### Min / Max / Mean / Stddev\n",
    "\n",
    "Functions like these are pretty simple to calculate regardless of dataset size, as they don't require the entire dataset to be in memory. You can just loop over the dimension to be reduced calculating value so far up to that step\n",
    "\n",
    "In pseudocode (in Python you're better off using `data.min(axis=0)`, as that's optimised compared to a loop)\n",
    "\n",
    "```python\n",
    "for t in range(data.shape[0]):\n",
    "    out_min = np.minimum(out_min, data[t,...])\n",
    "    out_max = np.maximum(out_max, data[t,...])\n",
    "    out_sum = out_sum + data[t,...]\n",
    "    \n",
    "out_mean = out_sum / data.shape[0]\n",
    "```"
   ]
  },
  {
   "cell_type": "code",
   "execution_count": 2,
   "id": "broad-dutch",
   "metadata": {
    "tags": [
     "hide-input"
    ]
   },
   "outputs": [
    {
     "data": {
      "image/png": "[encoded data removed]",
      "text/plain": [
       "<Figure size 1440x216 with 3 Axes>"
      ]
     },
     "metadata": {},
     "output_type": "display_data"
    }
   ],
   "source": [
    "fig, axs = plt.subplots(nrows=1, ncols=3, sharey=True, figsize=(20,3))\n",
    "\n",
    "draw_chunks(axs[0])\n",
    "axs[0].set_xlabel('t', fontsize='x-large')\n",
    "axs[0].set_ylabel('x', fontsize='x-large')\n",
    "axs[0].set_title('File Layout', fontsize='xx-large')\n",
    "\n",
    "draw_chunks(axs[1], chunk_size=(0.5, None))\n",
    "\n",
    "draw_chunks(axs[2], nchunks=(1, 2), chunk_size=(0.5, None))\n",
    "\n",
    "for i in range(4):\n",
    "    h = 1/4 * (i+0.5)\n",
    "    conn = matplotlib.patches.ConnectionPatch((1.02, h), (-0.02, h), axs[0].transAxes, axs[1].transAxes, arrowstyle='->', linewidth=2)\n",
    "    fig.add_artist(conn)\n",
    "\n",
    "for i in range(2):\n",
    "    h = 1/2 * (i+0.5)\n",
    "    conn = matplotlib.patches.ConnectionPatch((1.02, h), (-0.02, h), axs[1].transAxes, axs[2].transAxes, arrowstyle=']-', linewidth=2)\n",
    "    fig.add_artist(conn)\n",
    "    \n",
    "fig.add_artist(matplotlib.text.Text(0.375, -0.05, \"Reduce each block\", fontsize='xx-large',  ha='center', transform=fig.transFigure))\n",
    "fig.add_artist(matplotlib.text.Text(0.65, -0.05, \"Reduce along 't'\", fontsize='xx-large',  ha='center', transform=fig.transFigure))\n",
    "\n",
    "None"
   ]
  },
  {
   "cell_type": "markdown",
   "id": "chicken-precipitation",
   "metadata": {},
   "source": [
    "**Resources**\n",
    "\n",
    " - **Numpy** [statistics functions](https://numpy.org/doc/stable/reference/routines.statistics.html)\n",
    " - **Dask** also has optimised implementations for its arrays, e.g. [dask.array.mean](https://docs.dask.org/en/latest/array-api.html#dask.array.mean)\n",
    " - **Xarray** functions work the same as numpy, but keep the xarray metadata and you can use dimension names instead of axis numbers. [Weighted](http://xarray.pydata.org/en/stable/generated/xarray.DataArray.weighted.html) operations are also available\n",
    " - **CDO** `cdo --operators | grep fld` will give a list of basic statistics operations\n",
    " \n",
    "**Demonstrations**\n",
    " - Python - [Weighted Mean](http://xarray.pydata.org/en/stable/examples/area_weighted_temperature.html) from Xarray documentation\n",
    "\n",
    "### Percentiles / Median\n",
    "\n",
    "Percentiles are much trickier to calculate than basic statistics. To find the percentiles for a grid cell, you have to load the whole timeseries into memory, sort that timeseries, then find the value $N\\%$ along that sorted timeseries. For a large dataset this becomes very costly, especially since most datasets are stored in a way optimised for loading the whole domain at a single time rather than the timeseries at a single point.\n",
    "\n",
    "When there are `NAN` values in the timeseries percentiles become even harder to calculate, as the `NAN` values must be discarded by the algorithm.\n",
    "\n",
    "There are approximate ways to compute percentiles that don't require the whole dataset in memory such as [T-digest](https://github.com/tdunning/t-digest)\n",
    "\n",
    "Memory concerns are less of an issue when calculating percentiles on a subset of the data - e.g. when calculating climatologies."
   ]
  },
  {
   "cell_type": "code",
   "execution_count": 3,
   "id": "incident-quality",
   "metadata": {
    "tags": [
     "hide-input"
    ]
   },
   "outputs": [
    {
     "data": {
      "image/png": "[encoded data removed]",
      "text/plain": [
       "<Figure size 1440x216 with 3 Axes>"
      ]
     },
     "metadata": {},
     "output_type": "display_data"
    }
   ],
   "source": [
    "fig, axs = plt.subplots(nrows=1, ncols=3, sharey=True, figsize=(20,3))\n",
    "\n",
    "draw_chunks(axs[0])\n",
    "axs[0].set_xlabel('t', fontsize='x-large')\n",
    "axs[0].set_ylabel('x', fontsize='x-large')\n",
    "axs[0].set_title('File Layout', fontsize='xx-large')\n",
    "\n",
    "draw_chunks(axs[1], nchunks=(1, 4))\n",
    "\n",
    "draw_chunks(axs[2], nchunks=(1, 4))\n",
    "axs[2].annotate('Value N% along\\nthe array', (0.6, 0), (0.6, -0.4), 'axes fraction', 'axes fraction', fontsize='xx-large', arrowprops={'arrowstyle': '->'}, ha='center')\n",
    "\n",
    "regrid_conn = matplotlib.patches.ConnectionPatch((1.02, 0.5), (-0.02, 0.5), axs[0].transAxes, axs[1].transAxes, arrowstyle=']-[', mutation_scale=90, linewidth=2)\n",
    "fig.add_artist(regrid_conn)\n",
    "\n",
    "for i in range(4):\n",
    "    h = 1/4 * (i+0.5)\n",
    "    sort_conn = matplotlib.patches.ConnectionPatch((1.02, h), (-0.02, h), axs[1].transAxes, axs[2].transAxes, arrowstyle='->', linewidth=2)\n",
    "    fig.add_artist(sort_conn)\n",
    "    \n",
    "fig.add_artist(matplotlib.text.Text(0.375, -0.05, \"Rechunk along 't'\", fontsize='xx-large',  ha='center', transform=fig.transFigure))\n",
    "fig.add_artist(matplotlib.text.Text(0.65, -0.05, \"Sort along 't'\", fontsize='xx-large',  ha='center', transform=fig.transFigure))\n",
    "\n",
    "None"
   ]
  },
  {
   "cell_type": "markdown",
   "id": "constitutional-nomination",
   "metadata": {},
   "source": [
    "### Time Resampling\n",
    "\n",
    "Time resampling changes the temporal frequency of a dataset, say from hourly to daily. You can generally specify the operation to perform - min, mean, max etc. if going from a higher to lower frequency, or how values are interpolated if going from lower to higher frequency."
   ]
  },
  {
   "cell_type": "code",
   "execution_count": 5,
   "id": "noticed-transition",
   "metadata": {
    "tags": [
     "hide-input"
    ]
   },
   "outputs": [
    {
     "data": {
      "image/png": "[encoded data removed]",
      "text/plain": [
       "<Figure size 1440x216 with 3 Axes>"
      ]
     },
     "metadata": {},
     "output_type": "display_data"
    }
   ],
   "source": [
    "fig, axs = plt.subplots(nrows=1, ncols=3, sharey=True, figsize=(20,3))\n",
    "\n",
    "colors = numpy.stack([['#b3e2cd', '#fdcdac', '#cbd5e8', '#f4cae4', '#e6f5c9']]*2).T\n",
    "\n",
    "draw_chunks(axs[0], chunk_color=colors)\n",
    "axs[0].set_xlabel('t', fontsize='x-large')\n",
    "axs[0].set_ylabel('x', fontsize='x-large')\n",
    "axs[0].set_title('File Layout', fontsize='xx-large')\n",
    "\n",
    "resample_colors = numpy.full((15, 2), '#ffffff')\n",
    "for i in range(5):\n",
    "    resample_colors[3*i:3*i+3] = colors[i]\n",
    "\n",
    "draw_chunks(axs[1], nchunks=(15,2), chunk_size=(0.5, None), chunk_color=resample_colors)\n",
    "\n",
    "axs[2].set_frame_on(False)\n",
    "axs[2].set_xticks([])\n",
    "axs[2].set_yticks([])\n",
    "\n",
    "for i in range(4):\n",
    "    h = 1/4 * (i+0.5)\n",
    "    conn = matplotlib.patches.ConnectionPatch((1.02, h), (-0.02, h), axs[0].transAxes, axs[1].transAxes, arrowstyle='-[', linewidth=2)\n",
    "    fig.add_artist(conn)\n",
    "    \n",
    "fig.add_artist(matplotlib.text.Text(0.375, -0.05, \"Resample\", fontsize='xx-large',  ha='center', transform=fig.transFigure))\n",
    "\n",
    "None"
   ]
  },
  {
   "cell_type": "markdown",
   "id": "referenced-rebound",
   "metadata": {},
   "source": [
    "**Resources**\n",
    "\n",
    " - **Xarray** [resample](http://xarray.pydata.org/en/stable/generated/xarray.DataArray.resample.html) knows about time values, [coarsen](http://xarray.pydata.org/en/stable/generated/xarray.DataArray.coarsen.html) uses sample counts but can work in all dimensions. See [Pandas offset strings](https://pandas.pydata.org/pandas-docs/stable/user_guide/timeseries.html#dateoffset-objects) for how to specify different resample windows. Use a reduction operator like `.mean()` etc. after either of these to go from high to low frequency, or use `.resample().interpolate()` to go from low to high frequency\n",
    " - **CDO** see e.g. `cdo --operators | grep mean` for means on different timescales"
   ]
  },
  {
   "cell_type": "code",
   "execution_count": null,
   "id": "saved-marble",
   "metadata": {},
   "outputs": [],
   "source": []
  }
 ],
 "metadata": {
  "celltoolbar": "Tags",
  "kernelspec": {
   "display_name": "Python 3 (ipykernel)",
   "language": "python",
   "name": "python3"
  },
  "language_info": {
   "codemirror_mode": {
    "name": "ipython",
    "version": 3
   },
   "file_extension": ".py",
   "mimetype": "text/x-python",
   "name": "python",
   "nbconvert_exporter": "python",
   "pygments_lexer": "ipython3",
   "version": "3.9.6"
  }
 },
 "nbformat": 4,
 "nbformat_minor": 5
}
