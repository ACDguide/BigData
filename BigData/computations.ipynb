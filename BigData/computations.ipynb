{
 "cells": [
  {
   "cell_type": "markdown",
   "id": "aboriginal-folks",
   "metadata": {},
   "source": [
    "# Computations with large datasets"
   ]
  },
  {
   "cell_type": "code",
   "execution_count": 1,
   "id": "magnetic-jamaica",
   "metadata": {
    "tags": [
     "hide-input"
    ]
   },
   "outputs": [],
   "source": [
    "import matplotlib\n",
    "import matplotlib.pyplot as plt\n",
    "import numbers\n",
    "import numpy\n",
    "\n",
    "def draw_chunks(ax, size = (10, 8), nchunks = (5, 2), chunk_size = None, chunk_color = None):\n",
    "    \"\"\"\n",
    "    Draw a chunk diagram\n",
    "    \n",
    "    Args:\n",
    "        ax:          matplotlib.pyplot axis to draw on\n",
    "        size:        size of the array (x, y)\n",
    "        nchunks:     number of chunks (x, y)\n",
    "        chunk_size:  size of each chunk (x, y) (default size/nchunks)\n",
    "        chunk_color: colour of each chunk (array with shape nchunks)\n",
    "    \"\"\"\n",
    "    \n",
    "    spacing = 0.1\n",
    "    \n",
    "    if chunk_size is None:\n",
    "        chunk_size = (None, None)\n",
    "        \n",
    "    if chunk_color is None:\n",
    "        chunk_color = numpy.full(nchunks, 'wheat')\n",
    "    else:\n",
    "        chunk_color = numpy.asarray(chunk_color)\n",
    "        \n",
    "    # Fill in None values\n",
    "    chunk_size = tuple(chunk_size[i] if chunk_size[i] is not None else size[i] / nchunks[i]\n",
    "                        for i in range(2))\n",
    "    \n",
    "    if isinstance(chunk_size[0], numbers.Number):\n",
    "        xsize = numpy.full(nchunks[0], chunk_size[0]) - spacing\n",
    "    else:\n",
    "        xsize = numpy.asarray(chunk_size[0]) - spacing\n",
    "        \n",
    "    if isinstance(chunk_size[1], numbers.Number):\n",
    "        ysize = numpy.full(nchunks[1], chunk_size[1]) - spacing\n",
    "    else:\n",
    "        ysize = numpy.asarray(chunk_size[1]) - spacing\n",
    "\n",
    "                        \n",
    "    # Chunk cell centre\n",
    "    xc = (numpy.arange(nchunks[0], dtype='f') + 0.5) * (size[0] / nchunks[0])\n",
    "    yc = (numpy.arange(nchunks[1], dtype='f') + 0.5) * (size[1] / nchunks[1])\n",
    "    \n",
    "    for ii in range(nchunks[0]):\n",
    "        for jj in range(nchunks[1]):\n",
    "            box = matplotlib.patches.Rectangle((xc[ii] - xsize[ii]/2,\n",
    "                                                yc[jj] - ysize[jj]/2),\n",
    "                                               xsize[ii],\n",
    "                                               ysize[jj], \n",
    "                                               facecolor=chunk_color[ii,jj], edgecolor='black')\n",
    "            \n",
    "            ax.add_patch(box)\n",
    "            \n",
    "    ax.set_xbound(0, size[0])\n",
    "    ax.set_ylim(0, size[1])\n",
    "    ax.set_xticks([])\n",
    "    ax.set_yticks([])\n",
    "    ax.set_frame_on(False)\n",
    "    "
   ]
  },
  {
   "cell_type": "markdown",
   "id": "familiar-episode",
   "metadata": {},
   "source": [
    "## General tools\n",
    "\n",
    "### Python\n",
    "\n",
    "#### Pandas\n",
    "\n",
    "[Pandas](https://pandas.pydata.org/) is a data analysis library based around tabular data, like spreadsheets or CSV files.\n",
    "\n",
    "#### Xarray\n",
    "\n",
    "[Xarray](https://xarray.pydata.org) is a data analysis library based around the NetCDF data model, with Datasets having variables, dimensions, and attributes.\n",
    "\n",
    "It has a similar philosophy and set of functions to [Pandas](https://pandas.pydata.org/), only for multidimensional datasets instead of tabular data.\n",
    "\n",
    "#### Dask\n",
    "\n",
    "[Dask](https://docs.dask.org) is a library for working with larger-than memory arrays and parallel data analysis transparently. Xarray can use Dask arrays as a backend when opening a NetCDF file with the `chunks` attribute, and Dask has its own Pandas-like DataFrame implementation.\n",
    "\n",
    "Dask splits an array up into chunks. When doing operations on a Dask array, rather than evaluating the operation immediately Dask will create a task graph of what operations need to be run to create the output array chunks from the input array chunks. The task graph is only evaluated when results are needed (e.g. by saving to a file or creating a plot), and different chunks can be evaluated in parallel.\n",
    "\n",
    "It's best to start a [dask.distributed.Client](https://docs.dask.org/en/latest/setup/single-distributed.html) to allow Dask to process data in parallel with multiple processes.\n",
    "\n",
    "#### multiprocessing\n",
    "\n",
    "The built-in Python [multiprocessing](https://docs.python.org/3/library/multiprocessing.html) library has low-level tools for parallel computing. You can create a 'pool' of processes, then given a function and a list of arguments it can run that function on each argument in parallel.\n",
    "\n",
    "#### mpi4py\n",
    "\n",
    "[mpi4py](https://mpi4py.readthedocs.io/) is an implementation of the MPI library for Python, from which you can create parallel methods the same way as Fortran sending data between processes via messages.\n",
    "\n",
    "### Fortran/C\n",
    "\n",
    "#### MPI\n",
    "\n",
    "[MPI](https://en.wikipedia.org/wiki/Message_Passing_Interface) is a generic method of parallising to more than one computer, it's commonly used in HPC to enable programs running on different compute nodes to communicate.\n",
    "\n",
    "MPI is a low-level library, which makes it flexible to a lot of use cases but also more difficult to set up. Numerical models often use MPI with a program running on each compute node computing part of the model grid, the boundaries between domains being syncronised with MPI messages.\n",
    "\n",
    "**Resources**\n",
    "\n",
    " - [MPI function list](https://www.open-mpi.org/doc/current/)\n",
    " - [MPI standard](https://www.mpi-forum.org/docs/)\n",
    "\n",
    "### Command-line tools\n",
    "\n",
    "#### CDO\n",
    "\n",
    "[CDO](https://code.mpimet.mpg.de/projects/cdo) has a large number of common climate analysis functions that can be used to analyse cf-compliant netcdf data.\n",
    "\n",
    "For large datasets, if you can process each file independently you can parallelise using e.g. [GNU Parallel](https://www.gnu.org/software/parallel/) or a Python `multiprocessing.Pool.map`.\n",
    "\n",
    "You can use multiple parallel threads in CDO with `cdo -P <nthreads> ...`\n",
    "\n",
    "**Resources**\n",
    "\n",
    " - `cdo --operators` will give a list of all available commands\n",
    " - `cdo --help COMMAND` will show detailed help\n",
    "\n",
    "#### NCO\n",
    "\n",
    "[NCO](http://nco.sourceforge.net/) is a powerful tool for working with NetCDF files and metadata, though alongside that power it is also very complex to use. It can extract variables, modify attributes, change file chunking and compression and combine ensembles and timeseries alongside other functions.\n",
    "\n",
    "You can use multiple parallel threads in NCO with `ncks --thr_nbr <nthreads> ...`\n",
    " \n",
    "### Other languages (Matlab, R, etc.)\n",
    "\n",
    "While we're not aware of anything quite as nice as Xarray and Dask for other languages, most languages have libraries for reading NetCDF files and working with MPI.\n",
    "\n",
    "If you have suggestions for other libraries we can list here please let us know by [opening a ticket](https://github.com/ACDguide/BigData/issues/new)"
   ]
  },
  {
   "cell_type": "markdown",
   "id": "neither-armstrong",
   "metadata": {},
   "source": [
    "## Common Tasks\n",
    "\n",
    "The chunking illustrations in this section show approximately how these operations are done in Xarray + Dask, to give an idea of their complexity when working with large datasets and a basic idea of how these operations can be implemented manually. Normal arrows mean one chunk on the left gets mapped to one chunk on the right, a left square bracket means the number of chunks is reduced after this operation, a right square bracket means the number of chunks is increased. The most intensive operations are rechunking, as these require a lot of data in-memory, which are indicated with a large square bracket on both left and right.\n",
    "\n",
    "A *'reduce'* operation lowers the number of dimensions (e.g. a mean along the time axis). A *'map'* operation keeps the array size the same (e.g. a rolling mean)\n",
    "\n",
    "Tasks can be combined - you might calculate a climatology of 90th percentiles for each day in the year, or resample daily data to monthly maximums.\n",
    "\n",
    "### Min / Max / Mean / Stddev\n",
    "\n",
    "Functions like these are pretty simple to calculate regardless of dataset size, as they don't require the entire dataset to be in memory. You can just loop over the dimension to be reduced calculating value so far up to that step\n",
    "\n",
    "In pseudocode (in Python you're better off using `data.min(axis=0)`, as that's optimised compared to a loop)\n",
    "\n",
    "```python\n",
    "for t in range(data.shape[0]):\n",
    "    out_min = np.minimum(out_min, data[t,...])\n",
    "    out_max = np.maximum(out_max, data[t,...])\n",
    "    out_sum = out_sum + data[t,...]\n",
    "    \n",
    "out_mean = out_sum / data.shape[0]\n",
    "```"
   ]
  },
  {
   "cell_type": "code",
   "execution_count": 2,
   "id": "broad-dutch",
   "metadata": {
    "tags": [
     "hide-input"
    ]
   },
   "outputs": [
    {
     "data": {
      "image/png": "[encoded data removed]",
      "text/plain": [
       "<Figure size 1440x216 with 3 Axes>"
      ]
     },
     "metadata": {},
     "output_type": "display_data"
    }
   ],
   "source": [
    "fig, axs = plt.subplots(nrows=1, ncols=3, sharey=True, figsize=(20,3))\n",
    "\n",
    "draw_chunks(axs[0])\n",
    "axs[0].set_xlabel('t', fontsize='x-large')\n",
    "axs[0].set_ylabel('x', fontsize='x-large')\n",
    "axs[0].set_title('File Layout', fontsize='xx-large')\n",
    "\n",
    "draw_chunks(axs[1], chunk_size=(0.5, None))\n",
    "\n",
    "draw_chunks(axs[2], nchunks=(1, 2), chunk_size=(0.5, None))\n",
    "\n",
    "for i in range(4):\n",
    "    h = 1/4 * (i+0.5)\n",
    "    conn = matplotlib.patches.ConnectionPatch((1.02, h), (-0.02, h), axs[0].transAxes, axs[1].transAxes, arrowstyle='->', linewidth=2)\n",
    "    fig.add_artist(conn)\n",
    "\n",
    "for i in range(2):\n",
    "    h = 1/2 * (i+0.5)\n",
    "    conn = matplotlib.patches.ConnectionPatch((1.02, h), (-0.02, h), axs[1].transAxes, axs[2].transAxes, arrowstyle=']-', linewidth=2)\n",
    "    fig.add_artist(conn)\n",
    "    \n",
    "fig.add_artist(matplotlib.text.Text(0.375, -0.05, \"Reduce each block\", fontsize='xx-large',  ha='center', transform=fig.transFigure))\n",
    "fig.add_artist(matplotlib.text.Text(0.65, -0.05, \"Reduce along 't'\", fontsize='xx-large',  ha='center', transform=fig.transFigure))\n",
    "\n",
    "None"
   ]
  },
  {
   "cell_type": "markdown",
   "id": "chicken-precipitation",
   "metadata": {},
   "source": [
    "**Resources**\n",
    "\n",
    " - **Numpy** [statistics functions](https://numpy.org/doc/stable/reference/routines.statistics.html)\n",
    " - **Dask** also has optimised implementations for its arrays, e.g. [dask.array.mean](https://docs.dask.org/en/latest/array-api.html#dask.array.mean)\n",
    " - **Xarray** functions work the same as numpy, but keep the xarray metadata and you can use dimension names instead of axis numbers. [Weighted](http://xarray.pydata.org/en/stable/generated/xarray.DataArray.weighted.html) operations are also available\n",
    " - **CDO** `cdo --operators | grep fld` will give a list of basic statistics operations\n",
    " \n",
    "**Demonstrations**\n",
    " - Python - [Weighted Mean](http://xarray.pydata.org/en/stable/examples/area_weighted_temperature.html) from Xarray documentation\n",
    "\n",
    "### Percentiles / Median\n",
    "\n",
    "Percentiles are much trickier to calculate than basic statistics. To find the percentiles for a grid cell, you have to load the whole timeseries into memory, sort that timeseries, then find the value $N\\%$ along that sorted timeseries. For a large dataset this becomes very costly, especially since most datasets are stored in a way optimised for loading the whole domain at a single time rather than the timeseries at a single point.\n",
    "\n",
    "When there are `NAN` values in the timeseries percentiles become even harder to calculate, as the `NAN` values must be discarded by the algorithm.\n",
    "\n",
    "There are approximate ways to compute percentiles that don't require the whole dataset in memory such as [T-digest](https://github.com/tdunning/t-digest)\n",
    "\n",
    "Memory concerns are less of an issue when calculating percentiles on a subset of the data - e.g. when calculating climatologies."
   ]
  },
  {
   "cell_type": "code",
   "execution_count": 3,
   "id": "incident-quality",
   "metadata": {
    "tags": [
     "hide-input"
    ]
   },
   "outputs": [
    {
     "data": {
      "image/png": "[encoded data removed]",
      "text/plain": [
       "<Figure size 1440x216 with 3 Axes>"
      ]
     },
     "metadata": {},
     "output_type": "display_data"
    }
   ],
   "source": [
    "fig, axs = plt.subplots(nrows=1, ncols=3, sharey=True, figsize=(20,3))\n",
    "\n",
    "draw_chunks(axs[0])\n",
    "axs[0].set_xlabel('t', fontsize='x-large')\n",
    "axs[0].set_ylabel('x', fontsize='x-large')\n",
    "axs[0].set_title('File Layout', fontsize='xx-large')\n",
    "\n",
    "draw_chunks(axs[1], nchunks=(1, 4))\n",
    "\n",
    "draw_chunks(axs[2], nchunks=(1, 4))\n",
    "axs[2].annotate('Value N% along\\nthe array', (0.6, 0), (0.6, -0.4), 'axes fraction', 'axes fraction', fontsize='xx-large', arrowprops={'arrowstyle': '->'}, ha='center')\n",
    "\n",
    "regrid_conn = matplotlib.patches.ConnectionPatch((1.02, 0.5), (-0.02, 0.5), axs[0].transAxes, axs[1].transAxes, arrowstyle=']-[', mutation_scale=90, linewidth=2)\n",
    "fig.add_artist(regrid_conn)\n",
    "\n",
    "for i in range(4):\n",
    "    h = 1/4 * (i+0.5)\n",
    "    sort_conn = matplotlib.patches.ConnectionPatch((1.02, h), (-0.02, h), axs[1].transAxes, axs[2].transAxes, arrowstyle='->', linewidth=2)\n",
    "    fig.add_artist(sort_conn)\n",
    "    \n",
    "fig.add_artist(matplotlib.text.Text(0.375, -0.05, \"Rechunk along 't'\", fontsize='xx-large',  ha='center', transform=fig.transFigure))\n",
    "fig.add_artist(matplotlib.text.Text(0.65, -0.05, \"Sort along 't'\", fontsize='xx-large',  ha='center', transform=fig.transFigure))\n",
    "\n",
    "None"
   ]
  },
  {
   "cell_type": "markdown",
   "id": "united-moses",
   "metadata": {},
   "source": [
    "**Resources**\n",
    "\n",
    " - **Numpy** [percentile](https://numpy.org/doc/stable/reference/generated/numpy.percentile.html) and the more expensive [nanpercentile](https://numpy.org/doc/stable/reference/generated/numpy.nanpercentile.html)\n",
    " - **Dask** [percentile](https://docs.dask.org/en/latest/array-api.html#dask.array.percentile) uses approximate methods so is less memory intensive, but only works on 1D data\n",
    " - **Xarray** [quantile](xarray.pydata.org/en/stable/generated/xarray.Dataset.quantile.html) uses values between 0 and 1 instead of percents, Dask data must not be chunked along the axis of interest\n",
    " - **CDO** `cdo --operators | grep pctl` will give a list of percentile related operations."
   ]
  },
  {
   "cell_type": "markdown",
   "id": "vital-restoration",
   "metadata": {},
   "source": [
    "### Climatologies\n",
    "\n",
    "Climatologies combine multiple years worth of data into a single sample year, for instance a daily mean climatology would output a year of data, with each day in the output the mean of all the days with the same month and day in the input.\n",
    "\n",
    "Leap years require some consideration in a daily climatology, as those days will have 1/4 the samples of other days. Also consider how you are counting - with a day of year counting Feb 29 in a leap year will be matched up with 1 Mar in a non-leap year. "
   ]
  },
  {
   "cell_type": "code",
   "execution_count": 4,
   "id": "western-seventh",
   "metadata": {
    "tags": [
     "hide-input"
    ]
   },
   "outputs": [
    {
     "data": {
      "image/png": "[encoded data removed]",
      "text/plain": [
       "<Figure size 1440x216 with 3 Axes>"
      ]
     },
     "metadata": {},
     "output_type": "display_data"
    }
   ],
   "source": [
    "fig, axs = plt.subplots(nrows=1, ncols=3, sharey=True, figsize=(20,3))\n",
    "\n",
    "colors = numpy.stack([['#b3e2cd', '#fdcdac', '#cbd5e8']]*2).T\n",
    "\n",
    "draw_chunks(axs[0], nchunks=(3,2), chunk_color=colors)\n",
    "axs[0].set_xlabel('t', fontsize='x-large')\n",
    "axs[0].set_ylabel('x', fontsize='x-large')\n",
    "axs[0].set_title('File Layout', fontsize='xx-large')\n",
    "\n",
    "group_colors = numpy.full((15, 2), '#ffffff')\n",
    "for i in range(3):\n",
    "    group_colors[i::3] = colors[i]\n",
    "    \n",
    "draw_chunks(axs[1], nchunks=(15,2), chunk_size=(0.5, None), chunk_color=group_colors)\n",
    "\n",
    "draw_chunks(axs[2], nchunks=(5,2), chunk_size=(0.5, None))\n",
    "\n",
    "for i in range(4):\n",
    "    h = 1/4 * (i+0.5)\n",
    "    conn = matplotlib.patches.ConnectionPatch((1.02, h), (-0.02, h), axs[0].transAxes, axs[1].transAxes, arrowstyle='-[', linewidth=2)\n",
    "    fig.add_artist(conn)\n",
    "    \n",
    "for i in range(4):\n",
    "    h = 1/4 * (i+0.5)\n",
    "    sort_conn = matplotlib.patches.ConnectionPatch((1.02, h), (-0.02, h), axs[1].transAxes, axs[2].transAxes, arrowstyle=']-', linewidth=2)\n",
    "    fig.add_artist(sort_conn)\n",
    "    \n",
    "fig.add_artist(matplotlib.text.Text(0.375, -0.05, \"Groupby\", fontsize='xx-large',  ha='center', transform=fig.transFigure))\n",
    "fig.add_artist(matplotlib.text.Text(0.65, -0.05, \"Reduce Groups\", fontsize='xx-large',  ha='center', transform=fig.transFigure))\n",
    "\n",
    "None"
   ]
  },
  {
   "cell_type": "markdown",
   "id": "spectacular-standard",
   "metadata": {},
   "source": [
    "**Resources**\n",
    "\n",
    " - **Xarray** [groupby](http://xarray.pydata.org/en/stable/generated/xarray.DataArray.groupby.html) then a reduction operator like `.mean()` etc.\n",
    " - **CDO** `cdo --operators | grep 'Multi-year'` for a list of climatology operations\n",
    " \n",
    "**Demonstrations**\n",
    " - Python - [Seasonal average demo](http://xarray.pydata.org/en/stable/examples/monthly-means.html) from Xarray documentation\n",
    " - Python - [Monthly climatology](https://coecms-training.github.io/parallel/case-studies/climatology_multivar.html) from CLEX CMS"
   ]
  },
  {
   "cell_type": "markdown",
   "id": "constitutional-nomination",
   "metadata": {},
   "source": [
    "### Time Resampling\n",
    "\n",
    "Time resampling reduces the temporal frequency of a dataset, say from hourly to daily. You can generally specify the operation to perform - min, mean, max etc."
   ]
  },
  {
   "cell_type": "code",
   "execution_count": 5,
   "id": "noticed-transition",
   "metadata": {
    "tags": [
     "hide-input"
    ]
   },
   "outputs": [
    {
     "data": {
      "image/png": "[encoded data removed]",
      "text/plain": [
       "<Figure size 1440x216 with 3 Axes>"
      ]
     },
     "metadata": {},
     "output_type": "display_data"
    }
   ],
   "source": [
    "fig, axs = plt.subplots(nrows=1, ncols=3, sharey=True, figsize=(20,3))\n",
    "\n",
    "colors = numpy.stack([['#b3e2cd', '#fdcdac', '#cbd5e8', '#f4cae4', '#e6f5c9']]*2).T\n",
    "\n",
    "draw_chunks(axs[0], chunk_color=colors)\n",
    "axs[0].set_xlabel('t', fontsize='x-large')\n",
    "axs[0].set_ylabel('x', fontsize='x-large')\n",
    "axs[0].set_title('File Layout', fontsize='xx-large')\n",
    "\n",
    "resample_colors = numpy.full((15, 2), '#ffffff')\n",
    "for i in range(5):\n",
    "    resample_colors[3*i:3*i+3] = colors[i]\n",
    "\n",
    "draw_chunks(axs[1], nchunks=(15,2), chunk_size=(0.5, None), chunk_color=resample_colors)\n",
    "\n",
    "axs[2].set_frame_on(False)\n",
    "axs[2].set_xticks([])\n",
    "axs[2].set_yticks([])\n",
    "\n",
    "for i in range(4):\n",
    "    h = 1/4 * (i+0.5)\n",
    "    conn = matplotlib.patches.ConnectionPatch((1.02, h), (-0.02, h), axs[0].transAxes, axs[1].transAxes, arrowstyle='-[', linewidth=2)\n",
    "    fig.add_artist(conn)\n",
    "    \n",
    "fig.add_artist(matplotlib.text.Text(0.375, -0.05, \"Resample\", fontsize='xx-large',  ha='center', transform=fig.transFigure))\n",
    "\n",
    "None"
   ]
  },
  {
   "cell_type": "markdown",
   "id": "referenced-rebound",
   "metadata": {},
   "source": [
    "**Resources**\n",
    "\n",
    " - **Xarray** [resample](http://xarray.pydata.org/en/stable/generated/xarray.DataArray.resample.html) knows about time values, [coarsen](http://xarray.pydata.org/en/stable/generated/xarray.DataArray.coarsen.html) uses sample counts but can work in all dimensions. See [Pandas offset strings](https://pandas.pydata.org/pandas-docs/stable/user_guide/timeseries.html#dateoffset-objects) for how to specify different resample windows. Use a reduction operator like `.mean()` etc. after either of these\n",
    " - **CDO** see e.g. `cdo --operators | grep mean` for means on different timescales"
   ]
  },
  {
   "cell_type": "markdown",
   "id": "brave-cabin",
   "metadata": {},
   "source": [
    "### Horizontal Regridding\n",
    "\n",
    "Regridding converts data to a different resolution, useful when comparing two datasets. Note regridding only fills in gaps, it doesn't give any information at a finer scale than the source data.\n",
    "\n",
    "There's a number of different regridding methods that can be used\n",
    " - Conservative\n",
    " - Bilinear\n",
    " - Patch\n",
    " - Nearest source to destination / Nearest grid point\n",
    "\n",
    "See the [Xesmf comparison of regridding algorithms](https://xesmf.readthedocs.io/en/latest/notebooks/Compare_algorithms.html) for illustrations of each method.\n",
    "\n",
    "If the source dataset is masked, check the output along coastlines to make sure that it has been dealt with correctly. Most regridders can fill in masked regions using different extrapolation methods, which is useful if masks don't line up exactly. Conservative regridding has different behaviour along coastlines in normed and un-normed modes, in normed mode it will consider the mask on the target grid."
   ]
  },
  {
   "cell_type": "code",
   "execution_count": 6,
   "id": "middle-brake",
   "metadata": {
    "tags": [
     "hide-input"
    ]
   },
   "outputs": [
    {
     "data": {
      "image/png": "[encoded data removed]",
      "text/plain": [
       "<Figure size 1440x216 with 3 Axes>"
      ]
     },
     "metadata": {},
     "output_type": "display_data"
    }
   ],
   "source": [
    "fig, axs = plt.subplots(nrows=1, ncols=3, sharey=True, figsize=(20,3))\n",
    "\n",
    "draw_chunks(axs[0])\n",
    "axs[0].set_xlabel('t', fontsize='x-large')\n",
    "axs[0].set_ylabel('x', fontsize='x-large')\n",
    "axs[0].set_title('File Layout', fontsize='xx-large')\n",
    "\n",
    "draw_chunks(axs[1], nchunks=(4, 1))\n",
    "\n",
    "draw_chunks(axs[2], nchunks=(4, 1))\n",
    "\n",
    "regrid_conn = matplotlib.patches.ConnectionPatch((1.02, 0.5), (-0.02, 0.5), axs[0].transAxes, axs[1].transAxes, arrowstyle=']-[', mutation_scale=90, linewidth=2)\n",
    "fig.add_artist(regrid_conn)\n",
    "\n",
    "for i in range(4):\n",
    "    h = 1/4 * (i+0.5)\n",
    "    sort_conn = matplotlib.patches.ConnectionPatch((1.02, h), (-0.02, h), axs[1].transAxes, axs[2].transAxes, arrowstyle='->', linewidth=2)\n",
    "    fig.add_artist(sort_conn)\n",
    "    \n",
    "fig.add_artist(matplotlib.text.Text(0.375, -0.05, \"Rechunk along 'x'\", fontsize='xx-large',  ha='center', transform=fig.transFigure))\n",
    "fig.add_artist(matplotlib.text.Text(0.65, -0.05, \"Regrid\", fontsize='xx-large',  ha='center', transform=fig.transFigure))\n",
    "\n",
    "None"
   ]
  },
  {
   "cell_type": "markdown",
   "id": "dutch-marker",
   "metadata": {},
   "source": [
    "**Resources**\n",
    "\n",
    " - **Xarray** [coarsen](http://xarray.pydata.org/en/stable/generated/xarray.DataArray.coarsen.html) can only lower the resolution, combining an integer number of gridpoints in each direction\n",
    " - [**xesmf**](https://xesmf.readthedocs.io/en/latest/) Xarray interface to ESMF's regridder\n",
    " - [**ESMF**](https://earthsystemmodeling.org/docs/release/ESMF_8_0_1/ESMF_refdoc/node3.html) has some useful command line tools, can generate weights with `ESMF_RegridWeightGen` or regrid with `ESMF_Regrid`, lots of options\n",
    " - **NCO** Can apply CDO or ESMF weights with `ncks --map`\n",
    " - **CDO** Can generate weights and regrid - `cdo --operators | grep gen`, `cdo --operators | grep remap`\n",
    " \n",
    "**Demonstrations**\n",
    "\n",
    " - Python - [xesmf regridding](https://nbviewer.jupyter.org/github/COSIMA/cosima-recipes/blob/master/DocumentedExamples/Regridding.ipynb) from COSIMA\n",
    " - Python - [xesmf regridding](https://coecms-training.github.io/parallel/case-studies/regridding.html) from CLEX CMS"
   ]
  },
  {
   "cell_type": "markdown",
   "id": "accurate-group",
   "metadata": {},
   "source": [
    "### Vertical Regridding\n",
    "\n",
    "There are a wide variety of different vertical coordinate types used in climate datasets, including\n",
    "\n",
    " - Height/Depth\n",
    " - Hybrid Height / Hybrid Pressure\n",
    " - Isosurfaces (pressure, temperature, etc.)\n",
    "\n",
    "Swapping between these normally uses a vertical interpolation, you will need some form of mapping from one to the other (e.g. the pressure field on the same levels as the input dataset to convert to pressure levels).\n",
    "\n",
    "Remember that the height above/below sea level of hybrid height levels will vary with location, and the height above/below sea level of isosurfaces will vary with both location and time.\n",
    "\n",
    "'Hybrid' coordinates may refer to either hybrid height or hybrid pressure in different tools/models - be sure to check definitions match!\n",
    "\n",
    "Some transformations may benefit from calculating the interpolation logarithmically.\n",
    "\n",
    "**Resources**\n",
    "\n",
    " - **xgcm** [Vertical interpolation](https://xgcm.readthedocs.io/en/latest/transform.html) of Xarray datasets\n",
    " - **metpy** [linear](https://unidata.github.io/MetPy/latest/api/generated/metpy.interpolate.interpolate_1d.html#metpy.interpolate.interpolate_1d) and [log](https://unidata.github.io/MetPy/latest/api/generated/metpy.interpolate.log_interpolate_1d.html#metpy.interpolate.log_interpolate_1d) interpolation along an axis"
   ]
  },
  {
   "cell_type": "markdown",
   "id": "greek-engagement",
   "metadata": {},
   "source": [
    "### Rolling Averages\n",
    "\n",
    "A rolling operation combines input at multiple adjacent points into a single output value, producing a smoother result.\n",
    "\n",
    "Consider what should happen at the start and end of the dataset, possibilities for boundary conditions include\n",
    " - Set values to  NaN\n",
    " - Reflected - value at `x[-n]` equals value at `x[n]`\n",
    " - Periodic - value at `x[-n]` equals value at `x[len(x) - n]`\n",
    "\n",
    "When manually implementing this, you can read values from adjacent chunks to create a halo around the target data to get the boundary conditions of that chunk"
   ]
  },
  {
   "cell_type": "code",
   "execution_count": 7,
   "id": "contemporary-forest",
   "metadata": {
    "tags": [
     "hide-input"
    ]
   },
   "outputs": [
    {
     "data": {
      "image/png": "[encoded data removed]",
      "text/plain": [
       "<Figure size 1440x216 with 3 Axes>"
      ]
     },
     "metadata": {},
     "output_type": "display_data"
    }
   ],
   "source": [
    "fig, axs = plt.subplots(nrows=1, ncols=3, sharey=True, figsize=(20,3))\n",
    "\n",
    "colors = numpy.stack([['#b3e2cd', '#fdcdac', '#cbd5e8', '#f4cae4', '#e6f5c9']]*2).T\n",
    "\n",
    "draw_chunks(axs[0], chunk_color=colors)\n",
    "axs[0].set_xlabel('t', fontsize='x-large')\n",
    "axs[0].set_ylabel('x', fontsize='x-large')\n",
    "axs[0].set_title('File Layout', fontsize='xx-large')\n",
    "\n",
    "halo_colors = numpy.full((15, 2), '#ffffff')\n",
    "\n",
    "for i in range(5):\n",
    "    halo_colors[1+3*i] = colors[i]\n",
    "    if i > 0:\n",
    "        halo_colors[0+3*i] = colors[i-1]\n",
    "    \n",
    "    if i < 4:\n",
    "        halo_colors[2+3*i] = colors[i+1]\n",
    "\n",
    "draw_chunks(axs[1], nchunks=(15, 2), chunk_size=([0.3,1.2,0.3]*5, None), chunk_color=halo_colors)\n",
    "\n",
    "draw_chunks(axs[2], chunk_color=colors)\n",
    "\n",
    "for i in range(4):\n",
    "    h = 1/4 * (i+0.5)\n",
    "    conn = matplotlib.patches.ConnectionPatch((1.02, h), (-0.02, h), axs[0].transAxes, axs[1].transAxes, arrowstyle='-[', linewidth=2)\n",
    "    fig.add_artist(conn)\n",
    "\n",
    "for i in range(4):\n",
    "    h = 1/4 * (i+0.5)\n",
    "    sort_conn = matplotlib.patches.ConnectionPatch((1.02, h), (-0.02, h), axs[1].transAxes, axs[2].transAxes, arrowstyle=']-', linewidth=2)\n",
    "    fig.add_artist(sort_conn)\n",
    "    \n",
    "fig.add_artist(matplotlib.text.Text(0.375, -0.05, \"Add Halos\", fontsize='xx-large',  ha='center', transform=fig.transFigure))\n",
    "fig.add_artist(matplotlib.text.Text(0.65, -0.05, \"Map\", fontsize='xx-large',  ha='center', transform=fig.transFigure))\n",
    "\n",
    "None"
   ]
  },
  {
   "cell_type": "markdown",
   "id": "formed-revision",
   "metadata": {},
   "source": [
    "**Resources**\n",
    "\n",
    " - **Xarray** [rolling](http://xarray.pydata.org/en/stable/generated/xarray.DataArray.rolling.html) then a reduction operator like `.mean()`\n",
    " - **Dask** [map_overlap](https://docs.dask.org/en/latest/array-overlap.html) adds a halo to map_blocks\n",
    " - [**bottleneck**](https://github.com/pydata/bottleneck) provides optimised rolling operations on Numpy arrays, used by Xarray automatically\n",
    " - **CDO** see `cdo --operators | grep run` for related function names"
   ]
  },
  {
   "cell_type": "markdown",
   "id": "statewide-operator",
   "metadata": {},
   "source": [
    "## Generic Operations\n",
    "\n",
    "These operations are the building blocks of the analyses above, they may be useful for your own calculations\n",
    "\n",
    "### Map / Reduce\n",
    "\n",
    "Mapping just refers to applying a function to an array, returning a new array. Reduction is similar, however it returns an array with less dimensions than you started with (e.g. a mean over time).\n",
    "\n",
    "**Resources**\n",
    "\n",
    " - **Xarray** functions keep metadata - [apply_ufunc](http://xarray.pydata.org/en/stable/generated/xarray.apply_ufunc.html) runs an arbitrary function that works on a numpy array, [map_blocks](http://xarray.pydata.org/en/stable/generated/xarray.map_blocks.html) applys a function to each dask chunk with the coordinates and attributes available\n",
    " - **Dask** [map_blocks](https://docs.dask.org/en/latest/array-api.html#dask.array.map_blocks) provides more low-level control than the Xarray version, but you don't get the metadata\n",
    "\n",
    "**Demonstrations**\n",
    "\n",
    " - Python - [Converting a function from 1D to ND](https://coecms-training.github.io/parallel/case-studies/oned_to_nd_rewrite.html) from CLEX CMS\n",
    "\n",
    "### Rechunking\n",
    "\n",
    "To rechunk a dataset is to read it in and write it back out again, but in a way that's optimised for analysis in a different dimension - e.g. you might have a dataset that's optimised to read lat-lon slices, but you want to create a time-series climatology.\n",
    "\n",
    "Rechunking may also combine multiple input files - say a dataset has one file per model day that contains all of its variables, for a timeseries analysis you may want to swap this to one file per variable per model year to reduce the number of files that need to be opened in the analysis.\n",
    "\n",
    "**Resources**\n",
    "\n",
    " - **Xarray** The [encoding](http://xarray.pydata.org/en/stable/user-guide/io.html#chunk-based-compression) argument to `to_dataset()` can specify file chunking, combine multiple files with [open_mfdataset](http://xarray.pydata.org/en/stable/generated/xarray.open_mfdataset.html) or [concat](http://xarray.pydata.org/en/stable/generated/xarray.concat.html)\n",
    " - [**Rechunker**](https://github.com/pangeo-data/rechunker) A Python library for rechunking files in *Zarr* format\n",
    " - **NCO** There are several arguments to specify output chunking, see e.g. `ncks --help | grep cnk`. To combine input files along time see `ncrcat`\n"
   ]
  },
  {
   "cell_type": "code",
   "execution_count": null,
   "id": "saved-marble",
   "metadata": {},
   "outputs": [],
   "source": []
  }
 ],
 "metadata": {
  "kernelspec": {
   "display_name": "Python 3",
   "language": "python",
   "name": "python3"
  },
  "language_info": {
   "codemirror_mode": {
    "name": "ipython",
    "version": 3
   },
   "file_extension": ".py",
   "mimetype": "text/x-python",
   "name": "python",
   "nbconvert_exporter": "python",
   "pygments_lexer": "ipython3",
   "version": "3.8.6"
  }
 },
 "nbformat": 4,
 "nbformat_minor": 5
}
