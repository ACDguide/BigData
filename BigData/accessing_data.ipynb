{
 "cells": [
  {
   "cell_type": "markdown",
   "metadata": {},
   "source": [
    "# Methods of accessing data and metadata"
   ]
  },
  {
   "cell_type": "markdown",
   "metadata": {},
   "source": [
    "With the ever-increasing volume of climate data, it is crucial to be able to easily and quickly search for and access datasets of interest. Below are a few tools that may be useful."
   ]
  },
  {
   "cell_type": "markdown",
   "metadata": {},
   "source": [
    "## STAC (SpatioTemporal Asset Catalog)\n",
    "\n",
    "> \"Enabling online search and discovery of geospatial assets\"\n",
    "\n",
    "[STAC](https://stacspec.org) is a specification aimed at standardizing the language around geospatial datasets in order to increase accessability and interoperability across many datasets. It is for use with data stored in the cloud. \n",
    "\n",
    "#### Making data easily searchable\n",
    "At its core, `STAC` provides a [JSON](https://www.json.org/json-en.html) file wrapper around any geospatial data (i.e. any data relating to the Earth). The goal of this wrapper file is to contain all relevant information that a user may want to search for when finding a dataset. In this way, `STAC` seeks to make all earth-related cloud-optimized datasets easily searchable, but does not provide the search tools themselves. `STAC` integrates well with a tool like `intake` that can search for and load the desired datasets."
   ]
  },
  {
   "cell_type": "markdown",
   "metadata": {},
   "source": [
    "## Intake\n",
    "\n",
    "> \"Taking the pain out of data access and distribution\"\n",
    "\n",
    "[Intake](https://intake.readthedocs.io/en/latest/) is a python package used to find, investigate, load, and disseminate data. \n",
    "\n",
    "\n",
    "#### Data loading\n",
    "`Intake` can be used to load many different types of data formats (e.g. tabular data, multi-dimensional data, etc.) into a python notebook or script using familiar containers (e.g. Pandas dataframes, Xarray DataArrays, etc.). Intake can work on local, remote, or cloud computing infrastructures, and is relatively fast due to its ability to integrate distirbuted computing (e.g. Dask).\n",
    "\n",
    "There are a number of [plugins](https://intake.readthedocs.io/en/latest/plugin-directory.html#plugin-directory) that currently exist for different types of data. Several that may be of particular interest to the climate science community are:\n",
    "\n",
    "- [intake-esm](https://intake-esm.readthedocs.io/en/latest/): for ESM catalog datasets (including CMIP and CESM datasets)\n",
    "- [intake-geopandas](https://github.com/intake/intake_geopandas): for reading in geospatial datasets into a [geopandas](https://geopandas.org) dataframe\n",
    "- [intake-stac](https://intake-stac.readthedocs.io/en/latest/): for SpatioTemporal Asset Catalogs ([STAC](https://stacspec.org)); the [Pangeo Data Catalog](https://pangeo.io/catalog.html) uses STAC to catalog its cloud-based datasets\n",
    "- [intake-thredds](https://intake-thredds.readthedocs.io/en/latest/): to retrieve data from THREDDS data servers (used by NCAR for example)\n",
    "- [intake-xarray](https://intake-xarray.readthedocs.io/en/latest/): to load datasets into [Xarray](http://xarray.pydata.org/en/stable/) containers\n",
    "\n",
    "#### NCI Data Collection Intake Catalogue\n",
    "\n",
    "To access datasets stored at NCI ([National Computational Infrastructure](https://nci.org.au)), there is a dedicated intake cataloge: `nci-intake-catalogue`. Usage and other information can be found on the [nci-intake github site](https://github.com/coecms/nci-intake-catalogue).\n",
    "\n",
    "#### Other features\n",
    "\n",
    "`Intake` (and many of the plugins) can also be used for a few other tasks:\n",
    "- cataloging system for listing data sources, metadata, and parameters\n",
    "- convenience functions that can be used to, among other things, distribute data catalogs \n",
    "- investigate data sources and create plots using a GUI"
   ]
  },
  {
   "cell_type": "markdown",
   "metadata": {},
   "source": [
    "<div class=\"alert alert-info\" role=\"alert\">\n",
    "Note: This is a test to see if this renders as a blue alert box!\n",
    "</div>"
   ]
  },
  {
   "cell_type": "code",
   "execution_count": null,
   "metadata": {},
   "outputs": [],
   "source": []
  }
 ],
 "metadata": {
  "kernelspec": {
   "display_name": "Python 3",
   "language": "python",
   "name": "python3"
  },
  "language_info": {
   "codemirror_mode": {
    "name": "ipython",
    "version": 3
   },
   "file_extension": ".py",
   "mimetype": "text/x-python",
   "name": "python",
   "nbconvert_exporter": "python",
   "pygments_lexer": "ipython3",
   "version": "3.7.3"
  }
 },
 "nbformat": 4,
 "nbformat_minor": 4
}
